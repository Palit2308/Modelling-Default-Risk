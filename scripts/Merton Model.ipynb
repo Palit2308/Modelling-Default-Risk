{
 "cells": [
  {
   "cell_type": "code",
   "execution_count": 37,
   "metadata": {},
   "outputs": [],
   "source": [
    "import pandas as pd\n",
    "import numpy as np\n",
    "from scipy.stats import norm\n",
    "from scipy.optimize import fsolve"
   ]
  },
  {
   "cell_type": "code",
   "execution_count": 38,
   "metadata": {},
   "outputs": [],
   "source": [
    "ford_bs = pd.read_csv(\"C:/Users/Gast01/Desktop/Master Thesis Finance/Balance Sheets/Ford bs.csv\",  on_bad_lines='skip')\n",
    "ford_stock = pd.read_csv(\"C:/Users/Gast01/Desktop/Master Thesis Finance/Stock Prices/Ford Motor Stock Price History.csv\")\n",
    "ford_stock = ford_stock.iloc[::-1].reset_index(drop=True)"
   ]
  },
  {
   "cell_type": "code",
   "execution_count": 39,
   "metadata": {},
   "outputs": [],
   "source": [
    "ford_melted = ford_bs.melt(id_vars=[\"Breakdown\"], var_name=\"Date\", value_name=\"Value\")\n",
    "required_items = [\"Current Liabilities\", \"Long Term Debt\", \"Ordinary Shares Number\"]\n",
    "ford_filtered = ford_melted[ford_melted[\"Breakdown\"].isin(required_items)]\n",
    "ford_df = ford_filtered.pivot(index=\"Date\", columns=\"Breakdown\", values=\"Value\").reset_index()\n",
    "ford_df.columns.name = None  # Remove column grouping\n",
    "ford_df.rename(columns={\"Date\": \"Date\"}, inplace=True)  # Keep Date explicit"
   ]
  },
  {
   "cell_type": "code",
   "execution_count": 40,
   "metadata": {},
   "outputs": [],
   "source": [
    "ford_df[\"Date\"] = pd.to_datetime(ford_df[\"Date\"])\n",
    "ford_stock[\"Date\"] = pd.to_datetime(ford_stock[\"Date\"])\n",
    "\n",
    "ford_stock = ford_stock.sort_values(by=\"Date\")\n",
    "\n",
    "ford_df = pd.merge_asof(ford_df.sort_values(\"Date\"), ford_stock[[\"Date\", \"Price\"]], \n",
    "                        on=\"Date\", direction=\"forward\")\n",
    "\n",
    "ford_df.rename(columns={\"Price\": \"Stock Price\"}, inplace=True)"
   ]
  },
  {
   "cell_type": "code",
   "execution_count": 41,
   "metadata": {},
   "outputs": [],
   "source": [
    "ford_df[\"MktCap\"] = ford_df[\"Stock Price\"] * ford_df[\"Ordinary Shares Number\"]\n",
    "ford_df[\"Total Debt\"] = ford_df[\"Current Liabilities\"] + 0.2 * ford_df[\"Long Term Debt\"]\n",
    "ford_df[\"Asset Value\"] = ford_df[\"MktCap\"] + ford_df[\"Total Debt\"]"
   ]
  },
  {
   "cell_type": "code",
   "execution_count": 42,
   "metadata": {},
   "outputs": [],
   "source": [
    "ford_df = ford_df.iloc[::-1].reset_index(drop=True)"
   ]
  },
  {
   "cell_type": "code",
   "execution_count": 43,
   "metadata": {},
   "outputs": [],
   "source": [
    "ford_df[\"Asset Return\"] = np.log(ford_df[\"Asset Value\"] / ford_df[\"Asset Value\"].shift(1))\n",
    "mu_A = ford_df[\"Asset Return\"].mean()"
   ]
  },
  {
   "cell_type": "code",
   "execution_count": 44,
   "metadata": {},
   "outputs": [],
   "source": [
    "ford_stock = ford_stock.iloc[::-1].reset_index(drop=True)\n",
    "ford_stock[\"Date\"] = pd.to_datetime(ford_stock[\"Date\"])\n",
    "\n",
    "# Set Date as index and create a full daily date range (including weekends)\n",
    "ford_stock = ford_stock.set_index(\"Date\").asfreq(\"D\")  # \"D\" ensures daily frequency\n",
    "\n",
    "# Forward fill missing values (fills Saturday and Sunday with Friday's values)\n",
    "ford_stock = ford_stock.ffill()\n",
    "\n",
    "ford_stock[\"Log Returns\"] = np.log(ford_stock[\"Price\"] / ford_stock[\"Price\"].shift(1))\n",
    "\n",
    "# Reset index\n",
    "ford_stock = ford_stock.reset_index()"
   ]
  },
  {
   "cell_type": "code",
   "execution_count": 45,
   "metadata": {},
   "outputs": [
    {
     "data": {
      "text/plain": [
       "0.0198290115841388"
      ]
     },
     "execution_count": 45,
     "metadata": {},
     "output_type": "execute_result"
    }
   ],
   "source": [
    "sigma_E = np.std(ford_stock[\"Log Returns\"])\n",
    "\n",
    "sigma_E"
   ]
  },
  {
   "cell_type": "code",
   "execution_count": 46,
   "metadata": {},
   "outputs": [],
   "source": [
    "D = ford_df[\"Total Debt\"].iloc[-1]  # Latest total debt\n",
    "E = ford_df[\"MktCap\"].iloc[-1]  # Latest equity value\n",
    "T = 1  # Time horizon in years\n",
    "r = 0.03  # Risk-free rate (e.g., 3%)\n",
    "\n",
    "def equations(vars):\n",
    "    V, sigma_A = vars\n",
    "    d1 = (np.log(V / D) + (r + 0.5 * sigma_A ** 2) * T) / (sigma_A * np.sqrt(T))\n",
    "    d2 = d1 - sigma_A * np.sqrt(T)\n",
    "    \n",
    "    eq1 = V * norm.cdf(d1) - D * np.exp(-r * T) * norm.cdf(d2) - E\n",
    "    eq2 = sigma_E * E - sigma_A * V * norm.cdf(d1)\n",
    "    \n",
    "    return [eq1, eq2]\n",
    "\n",
    "\n",
    "V_guess = E + D\n",
    "sigma_A_guess = sigma_E * E / V_guess\n",
    "V, sigma_A = fsolve(equations, (V_guess, sigma_A_guess))"
   ]
  },
  {
   "cell_type": "code",
   "execution_count": 47,
   "metadata": {},
   "outputs": [
    {
     "name": "stdout",
     "output_type": "stream",
     "text": [
      "The probability of default of Ford Motor Company is 0.0000%\n"
     ]
    }
   ],
   "source": [
    "d1 = (np.log(V / D) + (mu_A + 0.5 * sigma_A ** 2) * T) / (sigma_A * np.sqrt(T))\n",
    "d2 = d1 - sigma_A * np.sqrt(T)\n",
    "DD = d2  # Distance to Default\n",
    "\n",
    "PD = norm.cdf(-DD)\n",
    "\n",
    "print(f\"The probability of default of Ford Motor Company is {PD:.4%}\")"
   ]
  },
  {
   "cell_type": "code",
   "execution_count": null,
   "metadata": {},
   "outputs": [],
   "source": []
  }
 ],
 "metadata": {
  "kernelspec": {
   "display_name": "base",
   "language": "python",
   "name": "python3"
  },
  "language_info": {
   "codemirror_mode": {
    "name": "ipython",
    "version": 3
   },
   "file_extension": ".py",
   "mimetype": "text/x-python",
   "name": "python",
   "nbconvert_exporter": "python",
   "pygments_lexer": "ipython3",
   "version": "3.9.13"
  }
 },
 "nbformat": 4,
 "nbformat_minor": 2
}
